{
 "cells": [
  {
   "cell_type": "code",
   "execution_count": null,
   "metadata": {},
   "outputs": [],
   "source": []
  },
  {
   "cell_type": "code",
   "execution_count": 1,
   "metadata": {},
   "outputs": [
    {
     "name": "stdout",
     "output_type": "stream",
     "text": [
      "Requirement already satisfied: mysql-connector-python in /Users/raphaelkrantz/opt/anaconda3/lib/python3.7/site-packages (8.0.20)\r\n",
      "Requirement already satisfied: protobuf>=3.0.0 in /Users/raphaelkrantz/opt/anaconda3/lib/python3.7/site-packages (from mysql-connector-python) (3.12.2)\r\n",
      "Requirement already satisfied: six>=1.9 in /Users/raphaelkrantz/opt/anaconda3/lib/python3.7/site-packages (from protobuf>=3.0.0->mysql-connector-python) (1.14.0)\r\n",
      "Requirement already satisfied: setuptools in /Users/raphaelkrantz/opt/anaconda3/lib/python3.7/site-packages (from protobuf>=3.0.0->mysql-connector-python) (46.0.0.post20200309)\r\n"
     ]
    }
   ],
   "source": [
    "# Import Packages\n",
    "\n",
    "# Array and Dataframe processing:\n",
    "import pandas as pd\n",
    "import numpy as np\n",
    "\n",
    "# Visualization:\n",
    "import seaborn as sns\n",
    "sns.set_style(\"darkgrid\")\n",
    "import matplotlib.pyplot as plt\n",
    "%matplotlib inline\n",
    "import plotly.graph_objects as go\n",
    "import plotly.express as px\n",
    "import plotly.figure_factory as ff\n",
    "\n",
    "# Model Implementation \n",
    "from sklearn.ensemble import RandomForestClassifier\n",
    "from sklearn import svm\n",
    "from sklearn.svm import SVC\n",
    "from sklearn.neural_network import MLPClassifier\n",
    "# from sklearn.linear_model import SGDCClassifier\n",
    "\n",
    "#  Metrics \n",
    "from sklearn.metrics import confusion_matrix, classification_report\n",
    "from sklearn.metrics import accuracy_score\n",
    "\n",
    "# For scaling and preprocessing:  StandardScaler, MinMaxScaler and MaxAbsScaler.\n",
    "from sklearn import preprocessing\n",
    "from sklearn.preprocessing import StandardScaler, LabelEncoder\n",
    "\n",
    "# For Model Training and Testing:\n",
    "from sklearn.model_selection import train_test_split\n",
    "\n",
    "# make sure we have the package installed\n",
    "!pip install mysql-connector-python\n",
    "\n",
    "## importing 'mysql.connector' \n",
    "import mysql.connector "
   ]
  },
  {
   "cell_type": "code",
   "execution_count": 2,
   "metadata": {},
   "outputs": [],
   "source": [
    "import config"
   ]
  },
  {
   "cell_type": "code",
   "execution_count": null,
   "metadata": {},
   "outputs": [],
   "source": []
  },
  {
   "cell_type": "code",
   "execution_count": 6,
   "metadata": {},
   "outputs": [
    {
     "ename": "SyntaxError",
     "evalue": "invalid syntax (<ipython-input-6-d8ffd7ba4977>, line 9)",
     "output_type": "error",
     "traceback": [
      "\u001b[0;36m  File \u001b[0;32m\"<ipython-input-6-d8ffd7ba4977>\"\u001b[0;36m, line \u001b[0;32m9\u001b[0m\n\u001b[0;31m    db = \"Saje_Store_One\"\u001b[0m\n\u001b[0m     ^\u001b[0m\n\u001b[0;31mSyntaxError\u001b[0m\u001b[0;31m:\u001b[0m invalid syntax\n"
     ]
    }
   ],
   "source": [
    "## Connecting to the database\n",
    "\n",
    "## connecting to the database using 'connect()' method\n",
    "## it takes 3 required parameters 'host', 'user', 'passwd'\n",
    "conn = mysql.connector.connect(\n",
    "    host = config.host,\n",
    "    user = config.user,\n",
    "    password = config.password\n",
    "    db = \"Saje_Store_One\"\n",
    ")\n",
    "\n",
    "print(conn) # it will print a connection object if everything is fine\n"
   ]
  },
  {
   "cell_type": "code",
   "execution_count": 4,
   "metadata": {},
   "outputs": [],
   "source": [
    "cur = conn.cursor()"
   ]
  },
  {
   "cell_type": "markdown",
   "metadata": {},
   "source": [
    "### Create Table- Item_Details"
   ]
  },
  {
   "cell_type": "code",
   "execution_count": 5,
   "metadata": {},
   "outputs": [
    {
     "ename": "ProgrammingError",
     "evalue": "1046 (3D000): No database selected",
     "output_type": "error",
     "traceback": [
      "\u001b[0;31m---------------------------------------------------------------------------\u001b[0m",
      "\u001b[0;31mMySQLInterfaceError\u001b[0m                       Traceback (most recent call last)",
      "\u001b[0;32m~/opt/anaconda3/lib/python3.7/site-packages/mysql/connector/connection_cext.py\u001b[0m in \u001b[0;36mcmd_query\u001b[0;34m(self, query, raw, buffered, raw_as_string)\u001b[0m\n\u001b[1;32m    488\u001b[0m                                \u001b[0mraw\u001b[0m\u001b[0;34m=\u001b[0m\u001b[0mraw\u001b[0m\u001b[0;34m,\u001b[0m \u001b[0mbuffered\u001b[0m\u001b[0;34m=\u001b[0m\u001b[0mbuffered\u001b[0m\u001b[0;34m,\u001b[0m\u001b[0;34m\u001b[0m\u001b[0;34m\u001b[0m\u001b[0m\n\u001b[0;32m--> 489\u001b[0;31m                                raw_as_string=raw_as_string)\n\u001b[0m\u001b[1;32m    490\u001b[0m         \u001b[0;32mexcept\u001b[0m \u001b[0mMySQLInterfaceError\u001b[0m \u001b[0;32mas\u001b[0m \u001b[0mexc\u001b[0m\u001b[0;34m:\u001b[0m\u001b[0;34m\u001b[0m\u001b[0;34m\u001b[0m\u001b[0m\n",
      "\u001b[0;31mMySQLInterfaceError\u001b[0m: No database selected",
      "\nDuring handling of the above exception, another exception occurred:\n",
      "\u001b[0;31mProgrammingError\u001b[0m                          Traceback (most recent call last)",
      "\u001b[0;32m<ipython-input-5-bfa072d41725>\u001b[0m in \u001b[0;36m<module>\u001b[0;34m\u001b[0m\n\u001b[1;32m     34\u001b[0m )\n\u001b[1;32m     35\u001b[0m \u001b[0;34m\u001b[0m\u001b[0m\n\u001b[0;32m---> 36\u001b[0;31m \"\"\") \n\u001b[0m",
      "\u001b[0;32m~/opt/anaconda3/lib/python3.7/site-packages/mysql/connector/cursor_cext.py\u001b[0m in \u001b[0;36mexecute\u001b[0;34m(self, operation, params, multi)\u001b[0m\n\u001b[1;32m    264\u001b[0m             result = self._cnx.cmd_query(stmt, raw=self._raw,\n\u001b[1;32m    265\u001b[0m                                          \u001b[0mbuffered\u001b[0m\u001b[0;34m=\u001b[0m\u001b[0mself\u001b[0m\u001b[0;34m.\u001b[0m\u001b[0m_buffered\u001b[0m\u001b[0;34m,\u001b[0m\u001b[0;34m\u001b[0m\u001b[0;34m\u001b[0m\u001b[0m\n\u001b[0;32m--> 266\u001b[0;31m                                          raw_as_string=self._raw_as_string)\n\u001b[0m\u001b[1;32m    267\u001b[0m         \u001b[0;32mexcept\u001b[0m \u001b[0mMySQLInterfaceError\u001b[0m \u001b[0;32mas\u001b[0m \u001b[0mexc\u001b[0m\u001b[0;34m:\u001b[0m\u001b[0;34m\u001b[0m\u001b[0;34m\u001b[0m\u001b[0m\n\u001b[1;32m    268\u001b[0m             raise errors.get_mysql_exception(msg=exc.msg, errno=exc.errno,\n",
      "\u001b[0;32m~/opt/anaconda3/lib/python3.7/site-packages/mysql/connector/connection_cext.py\u001b[0m in \u001b[0;36mcmd_query\u001b[0;34m(self, query, raw, buffered, raw_as_string)\u001b[0m\n\u001b[1;32m    490\u001b[0m         \u001b[0;32mexcept\u001b[0m \u001b[0mMySQLInterfaceError\u001b[0m \u001b[0;32mas\u001b[0m \u001b[0mexc\u001b[0m\u001b[0;34m:\u001b[0m\u001b[0;34m\u001b[0m\u001b[0;34m\u001b[0m\u001b[0m\n\u001b[1;32m    491\u001b[0m             raise errors.get_mysql_exception(exc.errno, msg=exc.msg,\n\u001b[0;32m--> 492\u001b[0;31m                                              sqlstate=exc.sqlstate)\n\u001b[0m\u001b[1;32m    493\u001b[0m         \u001b[0;32mexcept\u001b[0m \u001b[0mAttributeError\u001b[0m\u001b[0;34m:\u001b[0m\u001b[0;34m\u001b[0m\u001b[0;34m\u001b[0m\u001b[0m\n\u001b[1;32m    494\u001b[0m             \u001b[0;32mif\u001b[0m \u001b[0mself\u001b[0m\u001b[0;34m.\u001b[0m\u001b[0m_unix_socket\u001b[0m\u001b[0;34m:\u001b[0m\u001b[0;34m\u001b[0m\u001b[0;34m\u001b[0m\u001b[0m\n",
      "\u001b[0;31mProgrammingError\u001b[0m: 1046 (3D000): No database selected"
     ]
    }
   ],
   "source": [
    "cur.execute(\"\"\"\n",
    "Create table item_details\n",
    "(\n",
    "Item Id INT PRIMARY KEY NOT NULL AUTO_INCREMENT,\n",
    "Order # INT,\n",
    "Sent Date DATE,\n",
    "Order Date DATE,\n",
    "Check Id INT,\n",
    "Server VARCHAR (20),\n",
    "Table INT,\n",
    "Dining Area VARCHAR (20),\n",
    "Service VARCHAR (20),\n",
    "Dining Option VARCHAR (20),\n",
    "Item Selection Id INT,\n",
    "Item Id INT,\n",
    "Master Id INT,\n",
    "Menu Item VARCHAR (20),\n",
    "Menu Subgroups VARCHAR (20),\n",
    "Menu Group VARCHAR (20),\n",
    "Menu VARCHAR (20),\n",
    "Sales Category VARCHAR (20),\n",
    "Gross Price FLOAT,\n",
    "Discount FLOAT,\n",
    "Net Price FLOAT,\n",
    "Qty INT,\n",
    "Sales Total FLOAT,\n",
    "Tax FLOAT,\n",
    "Void? BOOL,\n",
    "Deferred BOOL,\n",
    "Tax Exempt BOOL,\n",
    "Tax Inclusion Option VARCHAR (20),\n",
    "Dining Option Tax VARCHAR (20),\n",
    "Tab Name \n",
    ")\n",
    "\n",
    "\"\"\") "
   ]
  },
  {
   "cell_type": "code",
   "execution_count": null,
   "metadata": {},
   "outputs": [],
   "source": []
  },
  {
   "cell_type": "code",
   "execution_count": null,
   "metadata": {},
   "outputs": [],
   "source": []
  },
  {
   "cell_type": "code",
   "execution_count": null,
   "metadata": {},
   "outputs": [],
   "source": []
  },
  {
   "cell_type": "code",
   "execution_count": null,
   "metadata": {},
   "outputs": [],
   "source": []
  },
  {
   "cell_type": "code",
   "execution_count": 9,
   "metadata": {},
   "outputs": [
    {
     "data": {
      "text/html": [
       "<div>\n",
       "<style scoped>\n",
       "    .dataframe tbody tr th:only-of-type {\n",
       "        vertical-align: middle;\n",
       "    }\n",
       "\n",
       "    .dataframe tbody tr th {\n",
       "        vertical-align: top;\n",
       "    }\n",
       "\n",
       "    .dataframe thead th {\n",
       "        text-align: right;\n",
       "    }\n",
       "</style>\n",
       "<table border=\"1\" class=\"dataframe\">\n",
       "  <thead>\n",
       "    <tr style=\"text-align: right;\">\n",
       "      <th></th>\n",
       "      <th>Order Id</th>\n",
       "      <th>Order #</th>\n",
       "      <th>Sent Date</th>\n",
       "      <th>Order Date</th>\n",
       "      <th>Check Id</th>\n",
       "      <th>Server</th>\n",
       "      <th>Table</th>\n",
       "      <th>Dining Area</th>\n",
       "      <th>Service</th>\n",
       "      <th>Dining Option</th>\n",
       "      <th>...</th>\n",
       "      <th>Net Price</th>\n",
       "      <th>Qty</th>\n",
       "      <th>Sales Total</th>\n",
       "      <th>Tax</th>\n",
       "      <th>Void?</th>\n",
       "      <th>Deferred</th>\n",
       "      <th>Tax Exempt</th>\n",
       "      <th>Tax Inclusion Option</th>\n",
       "      <th>Dining Option Tax</th>\n",
       "      <th>Tab Name</th>\n",
       "    </tr>\n",
       "  </thead>\n",
       "  <tbody>\n",
       "    <tr>\n",
       "      <th>0</th>\n",
       "      <td>5.000000e+17</td>\n",
       "      <td>1</td>\n",
       "      <td>10/1/19 8:03</td>\n",
       "      <td>10/1/19 8:03</td>\n",
       "      <td>5.000000e+17</td>\n",
       "      <td>Alfredo Vargas</td>\n",
       "      <td>NaN</td>\n",
       "      <td>NaN</td>\n",
       "      <td>NaN</td>\n",
       "      <td>Dine In</td>\n",
       "      <td>...</td>\n",
       "      <td>4.63</td>\n",
       "      <td>1.0</td>\n",
       "      <td>4.63</td>\n",
       "      <td>0.37</td>\n",
       "      <td>False</td>\n",
       "      <td>False</td>\n",
       "      <td>False</td>\n",
       "      <td>Tax Included</td>\n",
       "      <td>No Effect</td>\n",
       "      <td>NaN</td>\n",
       "    </tr>\n",
       "    <tr>\n",
       "      <th>1</th>\n",
       "      <td>5.000000e+17</td>\n",
       "      <td>2</td>\n",
       "      <td>10/1/19 8:20</td>\n",
       "      <td>10/1/19 8:20</td>\n",
       "      <td>5.000000e+17</td>\n",
       "      <td>Alfredo Vargas</td>\n",
       "      <td>NaN</td>\n",
       "      <td>NaN</td>\n",
       "      <td>NaN</td>\n",
       "      <td>Dine In</td>\n",
       "      <td>...</td>\n",
       "      <td>4.16</td>\n",
       "      <td>1.0</td>\n",
       "      <td>4.16</td>\n",
       "      <td>0.34</td>\n",
       "      <td>False</td>\n",
       "      <td>False</td>\n",
       "      <td>False</td>\n",
       "      <td>Tax Included</td>\n",
       "      <td>No Effect</td>\n",
       "      <td>NaN</td>\n",
       "    </tr>\n",
       "    <tr>\n",
       "      <th>2</th>\n",
       "      <td>5.000000e+17</td>\n",
       "      <td>3</td>\n",
       "      <td>10/1/19 8:29</td>\n",
       "      <td>10/1/19 8:29</td>\n",
       "      <td>5.000000e+17</td>\n",
       "      <td>Alfredo Vargas</td>\n",
       "      <td>NaN</td>\n",
       "      <td>NaN</td>\n",
       "      <td>NaN</td>\n",
       "      <td>Dine In</td>\n",
       "      <td>...</td>\n",
       "      <td>4.63</td>\n",
       "      <td>1.0</td>\n",
       "      <td>4.63</td>\n",
       "      <td>0.37</td>\n",
       "      <td>False</td>\n",
       "      <td>False</td>\n",
       "      <td>False</td>\n",
       "      <td>Tax Included</td>\n",
       "      <td>No Effect</td>\n",
       "      <td>NaN</td>\n",
       "    </tr>\n",
       "    <tr>\n",
       "      <th>3</th>\n",
       "      <td>5.000000e+17</td>\n",
       "      <td>4</td>\n",
       "      <td>10/1/19 8:46</td>\n",
       "      <td>10/1/19 8:46</td>\n",
       "      <td>5.000000e+17</td>\n",
       "      <td>Alfredo Vargas</td>\n",
       "      <td>NaN</td>\n",
       "      <td>NaN</td>\n",
       "      <td>NaN</td>\n",
       "      <td>Dine In</td>\n",
       "      <td>...</td>\n",
       "      <td>4.63</td>\n",
       "      <td>1.0</td>\n",
       "      <td>4.63</td>\n",
       "      <td>0.37</td>\n",
       "      <td>False</td>\n",
       "      <td>False</td>\n",
       "      <td>False</td>\n",
       "      <td>Tax Included</td>\n",
       "      <td>No Effect</td>\n",
       "      <td>NaN</td>\n",
       "    </tr>\n",
       "    <tr>\n",
       "      <th>4</th>\n",
       "      <td>5.000000e+17</td>\n",
       "      <td>5</td>\n",
       "      <td>10/1/19 8:47</td>\n",
       "      <td>10/1/19 8:47</td>\n",
       "      <td>5.000000e+17</td>\n",
       "      <td>Alfredo Vargas</td>\n",
       "      <td>NaN</td>\n",
       "      <td>NaN</td>\n",
       "      <td>NaN</td>\n",
       "      <td>Dine In</td>\n",
       "      <td>...</td>\n",
       "      <td>2.78</td>\n",
       "      <td>1.0</td>\n",
       "      <td>2.78</td>\n",
       "      <td>0.22</td>\n",
       "      <td>False</td>\n",
       "      <td>False</td>\n",
       "      <td>False</td>\n",
       "      <td>Tax Included</td>\n",
       "      <td>No Effect</td>\n",
       "      <td>NaN</td>\n",
       "    </tr>\n",
       "  </tbody>\n",
       "</table>\n",
       "<p>5 rows × 32 columns</p>\n",
       "</div>"
      ],
      "text/plain": [
       "       Order Id  Order #     Sent Date    Order Date      Check Id  \\\n",
       "0  5.000000e+17        1  10/1/19 8:03  10/1/19 8:03  5.000000e+17   \n",
       "1  5.000000e+17        2  10/1/19 8:20  10/1/19 8:20  5.000000e+17   \n",
       "2  5.000000e+17        3  10/1/19 8:29  10/1/19 8:29  5.000000e+17   \n",
       "3  5.000000e+17        4  10/1/19 8:46  10/1/19 8:46  5.000000e+17   \n",
       "4  5.000000e+17        5  10/1/19 8:47  10/1/19 8:47  5.000000e+17   \n",
       "\n",
       "           Server  Table Dining Area Service Dining Option  ...  Net Price  \\\n",
       "0  Alfredo Vargas    NaN         NaN     NaN       Dine In  ...       4.63   \n",
       "1  Alfredo Vargas    NaN         NaN     NaN       Dine In  ...       4.16   \n",
       "2  Alfredo Vargas    NaN         NaN     NaN       Dine In  ...       4.63   \n",
       "3  Alfredo Vargas    NaN         NaN     NaN       Dine In  ...       4.63   \n",
       "4  Alfredo Vargas    NaN         NaN     NaN       Dine In  ...       2.78   \n",
       "\n",
       "   Qty  Sales Total   Tax  Void? Deferred Tax Exempt Tax Inclusion Option  \\\n",
       "0  1.0         4.63  0.37  False    False      False         Tax Included   \n",
       "1  1.0         4.16  0.34  False    False      False         Tax Included   \n",
       "2  1.0         4.63  0.37  False    False      False         Tax Included   \n",
       "3  1.0         4.63  0.37  False    False      False         Tax Included   \n",
       "4  1.0         2.78  0.22  False    False      False         Tax Included   \n",
       "\n",
       "  Dining Option Tax Tab Name  \n",
       "0         No Effect      NaN  \n",
       "1         No Effect      NaN  \n",
       "2         No Effect      NaN  \n",
       "3         No Effect      NaN  \n",
       "4         No Effect      NaN  \n",
       "\n",
       "[5 rows x 32 columns]"
      ]
     },
     "execution_count": 9,
     "metadata": {},
     "output_type": "execute_result"
    }
   ],
   "source": [
    "df = pd.read_csv(\"Data/Menu/Item_Detail/Dummy_Item_Details_10_2019.csv\", encoding = \"utf-8\")\n",
    "df.head()"
   ]
  },
  {
   "cell_type": "code",
   "execution_count": 30,
   "metadata": {},
   "outputs": [],
   "source": [
    "columns = ['Order Id', 'Order #', 'Sent Date', 'Order Date', 'Check Id', 'Server',\n",
    "       'Table', 'Dining Area', 'Service', 'Dining Option', 'Item Selection Id',\n",
    "       'Item Id', 'Master Id', 'SKU', 'PLU', 'Menu Item', 'Menu Subgroup(s)',\n",
    "       'Menu Group', 'Menu', 'Sales Category', 'Gross Price', 'Discount',\n",
    "       'Net Price', 'Qty', 'Sales Total', 'Tax', 'Void?', 'Deferred',\n",
    "       'Tax Exempt', 'Tax Inclusion Option', 'Dining Option Tax', 'Tab Name']\n"
   ]
  },
  {
   "cell_type": "code",
   "execution_count": 34,
   "metadata": {},
   "outputs": [],
   "source": [
    "for col in columns:\n",
    "    if col.startswith(\"'\"):\n",
    "        col = string[1:]\n",
    "\n",
    "    if col.endswith(\"'\"):\n",
    "        col = string[:-1]"
   ]
  },
  {
   "cell_type": "code",
   "execution_count": 35,
   "metadata": {},
   "outputs": [
    {
     "data": {
      "text/plain": [
       "['Order Id',\n",
       " 'Order #',\n",
       " 'Sent Date',\n",
       " 'Order Date',\n",
       " 'Check Id',\n",
       " 'Server',\n",
       " 'Table',\n",
       " 'Dining Area',\n",
       " 'Service',\n",
       " 'Dining Option',\n",
       " 'Item Selection Id',\n",
       " 'Item Id',\n",
       " 'Master Id',\n",
       " 'SKU',\n",
       " 'PLU',\n",
       " 'Menu Item',\n",
       " 'Menu Subgroup(s)',\n",
       " 'Menu Group',\n",
       " 'Menu',\n",
       " 'Sales Category',\n",
       " 'Gross Price',\n",
       " 'Discount',\n",
       " 'Net Price',\n",
       " 'Qty',\n",
       " 'Sales Total',\n",
       " 'Tax',\n",
       " 'Void?',\n",
       " 'Deferred',\n",
       " 'Tax Exempt',\n",
       " 'Tax Inclusion Option',\n",
       " 'Dining Option Tax',\n",
       " 'Tab Name']"
      ]
     },
     "execution_count": 35,
     "metadata": {},
     "output_type": "execute_result"
    }
   ],
   "source": [
    "columns"
   ]
  },
  {
   "cell_type": "code",
   "execution_count": null,
   "metadata": {},
   "outputs": [],
   "source": []
  },
  {
   "cell_type": "code",
   "execution_count": null,
   "metadata": {},
   "outputs": [],
   "source": []
  },
  {
   "cell_type": "code",
   "execution_count": null,
   "metadata": {},
   "outputs": [],
   "source": []
  },
  {
   "cell_type": "code",
   "execution_count": null,
   "metadata": {},
   "outputs": [],
   "source": []
  },
  {
   "cell_type": "code",
   "execution_count": null,
   "metadata": {},
   "outputs": [],
   "source": []
  },
  {
   "cell_type": "code",
   "execution_count": null,
   "metadata": {},
   "outputs": [],
   "source": []
  },
  {
   "cell_type": "code",
   "execution_count": null,
   "metadata": {},
   "outputs": [],
   "source": []
  },
  {
   "cell_type": "code",
   "execution_count": null,
   "metadata": {},
   "outputs": [],
   "source": []
  },
  {
   "cell_type": "code",
   "execution_count": null,
   "metadata": {},
   "outputs": [],
   "source": []
  },
  {
   "cell_type": "code",
   "execution_count": null,
   "metadata": {},
   "outputs": [],
   "source": []
  }
 ],
 "metadata": {
  "kernelspec": {
   "display_name": "Python 3",
   "language": "python",
   "name": "python3"
  },
  "language_info": {
   "codemirror_mode": {
    "name": "ipython",
    "version": 3
   },
   "file_extension": ".py",
   "mimetype": "text/x-python",
   "name": "python",
   "nbconvert_exporter": "python",
   "pygments_lexer": "ipython3",
   "version": "3.7.6"
  }
 },
 "nbformat": 4,
 "nbformat_minor": 4
}
