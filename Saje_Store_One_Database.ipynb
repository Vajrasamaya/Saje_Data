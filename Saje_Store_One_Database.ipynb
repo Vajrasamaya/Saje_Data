{
 "cells": [
  {
   "cell_type": "code",
   "execution_count": null,
   "metadata": {},
   "outputs": [],
   "source": []
  },
  {
   "cell_type": "code",
   "execution_count": 27,
   "metadata": {},
   "outputs": [
    {
     "name": "stdout",
     "output_type": "stream",
     "text": [
      "Requirement already satisfied: mysql-connector-python in /Users/raphaelkrantz/opt/anaconda3/lib/python3.7/site-packages (8.0.20)\r\n",
      "Requirement already satisfied: protobuf>=3.0.0 in /Users/raphaelkrantz/opt/anaconda3/lib/python3.7/site-packages (from mysql-connector-python) (3.12.2)\r\n",
      "Requirement already satisfied: six>=1.9 in /Users/raphaelkrantz/opt/anaconda3/lib/python3.7/site-packages (from protobuf>=3.0.0->mysql-connector-python) (1.14.0)\r\n",
      "Requirement already satisfied: setuptools in /Users/raphaelkrantz/opt/anaconda3/lib/python3.7/site-packages (from protobuf>=3.0.0->mysql-connector-python) (46.0.0.post20200309)\r\n"
     ]
    }
   ],
   "source": [
    "# Import Packages\n",
    "\n",
    "# Array and Dataframe processing:\n",
    "import pandas as pd\n",
    "import numpy as np\n",
    "\n",
    "# Visualization:\n",
    "import seaborn as sns\n",
    "sns.set_style(\"darkgrid\")\n",
    "import matplotlib.pyplot as plt\n",
    "%matplotlib inline\n",
    "import plotly.graph_objects as go\n",
    "import plotly.express as px\n",
    "import plotly.figure_factory as ff\n",
    "\n",
    "# Model Implementation \n",
    "from sklearn.ensemble import RandomForestClassifier\n",
    "from sklearn import svm\n",
    "from sklearn.svm import SVC\n",
    "from sklearn.neural_network import MLPClassifier\n",
    "# from sklearn.linear_model import SGDCClassifier\n",
    "\n",
    "#  Metrics \n",
    "from sklearn.metrics import confusion_matrix, classification_report\n",
    "from sklearn.metrics import accuracy_score\n",
    "\n",
    "# For scaling and preprocessing:  StandardScaler, MinMaxScaler and MaxAbsScaler.\n",
    "from sklearn import preprocessing\n",
    "from sklearn.preprocessing import StandardScaler, LabelEncoder\n",
    "\n",
    "# For Model Training and Testing:\n",
    "from sklearn.model_selection import train_test_split\n",
    "\n",
    "# make sure we have the package installed\n",
    "!pip install mysql-connector-python\n",
    "\n",
    "## importing 'mysql.connector' \n",
    "import mysql.connector "
   ]
  },
  {
   "cell_type": "code",
   "execution_count": 28,
   "metadata": {},
   "outputs": [],
   "source": [
    "import config"
   ]
  },
  {
   "cell_type": "code",
   "execution_count": null,
   "metadata": {},
   "outputs": [],
   "source": []
  },
  {
   "cell_type": "code",
   "execution_count": 29,
   "metadata": {},
   "outputs": [
    {
     "name": "stdout",
     "output_type": "stream",
     "text": [
      "<mysql.connector.connection_cext.CMySQLConnection object at 0x7f9ed2ba42d0>\n"
     ]
    }
   ],
   "source": [
    "## Connecting to the database\n",
    "\n",
    "## connecting to the database using 'connect()' method\n",
    "## it takes 3 required parameters 'host', 'user', 'passwd'\n",
    "conn = mysql.connector.connect(\n",
    "    host = config.host,\n",
    "    user = config.user,\n",
    "    password = config.password\n",
    "    \n",
    ") \n",
    "\n",
    "print(conn) # it will print a connection object if everything is fine\n"
   ]
  },
  {
   "cell_type": "code",
   "execution_count": 30,
   "metadata": {},
   "outputs": [],
   "source": [
    "cur = conn.cursor()"
   ]
  },
  {
   "cell_type": "markdown",
   "metadata": {},
   "source": [
    "### Create Table- Item_Details"
   ]
  },
  {
   "cell_type": "code",
   "execution_count": 31,
   "metadata": {},
   "outputs": [],
   "source": [
    "cur.execute(\"use Saje_Store_One;\")"
   ]
  },
  {
   "cell_type": "code",
   "execution_count": 32,
   "metadata": {},
   "outputs": [],
   "source": [
    "cur.execute(\"\"\"\n",
    "Create table employees\n",
    "(\n",
    "Id INT Primary Key Not Null Auto_Increment,\n",
    "Birthdate Date, \n",
    "First_Name Varchar(16),\n",
    "Last_Name Varchar(20),\n",
    "Gender ENUM(\"M\", \"F\"),\n",
    "Hire_Date Date\n",
    ")\n",
    "\n",
    "\"\"\")"
   ]
  },
  {
   "cell_type": "code",
   "execution_count": 35,
   "metadata": {},
   "outputs": [],
   "source": [
    "\n",
    "cur.execute(\"\"\"\n",
    "Create table item_details\n",
    "(\n",
    "Item_Id INT PRIMARY KEY NOT NULL AUTO_INCREMENT,\n",
    "Order_Number INT,\n",
    "Sent_Date DATETIME,\n",
    "Order_Date DATETIME,\n",
    "Check_Id INT,\n",
    "Server VARCHAR (20),\n",
    "Table_Number INT,\n",
    "Dining_Area VARCHAR (20),\n",
    "Service VARCHAR (20),\n",
    "Dining_Option VARCHAR (20),\n",
    "Item_Selection_Id INT,\n",
    "Master_Id INT,\n",
    "Menu_Item VARCHAR (20),\n",
    "Menu_Subgroups VARCHAR (20),\n",
    "Menu_Group VARCHAR (20),\n",
    "Menu VARCHAR (20),\n",
    "Sales_Category VARCHAR (20),\n",
    "Gross_Price FLOAT,\n",
    "Discount FLOAT,\n",
    "Net_Price FLOAT,\n",
    "Quantity INT,\n",
    "Sales_Total FLOAT,\n",
    "Tax FLOAT,\n",
    "Voided BOOL,\n",
    "Deferred BOOL,\n",
    "Tax_Exempt BOOL,\n",
    "Tax_Inclusion_Option VARCHAR (20),\n",
    "Dining_Option_Tax VARCHAR (20) \n",
    ");\n",
    "\"\"\") "
   ]
  },
  {
   "cell_type": "code",
   "execution_count": null,
   "metadata": {},
   "outputs": [],
   "source": [
    " "
   ]
  },
  {
   "cell_type": "code",
   "execution_count": null,
   "metadata": {},
   "outputs": [],
   "source": []
  },
  {
   "cell_type": "code",
   "execution_count": null,
   "metadata": {},
   "outputs": [],
   "source": []
  },
  {
   "cell_type": "code",
   "execution_count": null,
   "metadata": {},
   "outputs": [],
   "source": []
  },
  {
   "cell_type": "code",
   "execution_count": 9,
   "metadata": {},
   "outputs": [
    {
     "data": {
      "text/html": [
       "<div>\n",
       "<style scoped>\n",
       "    .dataframe tbody tr th:only-of-type {\n",
       "        vertical-align: middle;\n",
       "    }\n",
       "\n",
       "    .dataframe tbody tr th {\n",
       "        vertical-align: top;\n",
       "    }\n",
       "\n",
       "    .dataframe thead th {\n",
       "        text-align: right;\n",
       "    }\n",
       "</style>\n",
       "<table border=\"1\" class=\"dataframe\">\n",
       "  <thead>\n",
       "    <tr style=\"text-align: right;\">\n",
       "      <th></th>\n",
       "      <th>Order Id</th>\n",
       "      <th>Order #</th>\n",
       "      <th>Sent Date</th>\n",
       "      <th>Order Date</th>\n",
       "      <th>Check Id</th>\n",
       "      <th>Server</th>\n",
       "      <th>Table</th>\n",
       "      <th>Dining Area</th>\n",
       "      <th>Service</th>\n",
       "      <th>Dining Option</th>\n",
       "      <th>...</th>\n",
       "      <th>Net Price</th>\n",
       "      <th>Qty</th>\n",
       "      <th>Sales Total</th>\n",
       "      <th>Tax</th>\n",
       "      <th>Void?</th>\n",
       "      <th>Deferred</th>\n",
       "      <th>Tax Exempt</th>\n",
       "      <th>Tax Inclusion Option</th>\n",
       "      <th>Dining Option Tax</th>\n",
       "      <th>Tab Name</th>\n",
       "    </tr>\n",
       "  </thead>\n",
       "  <tbody>\n",
       "    <tr>\n",
       "      <th>0</th>\n",
       "      <td>5.000000e+17</td>\n",
       "      <td>1</td>\n",
       "      <td>10/1/19 8:03</td>\n",
       "      <td>10/1/19 8:03</td>\n",
       "      <td>5.000000e+17</td>\n",
       "      <td>Alfredo Vargas</td>\n",
       "      <td>NaN</td>\n",
       "      <td>NaN</td>\n",
       "      <td>NaN</td>\n",
       "      <td>Dine In</td>\n",
       "      <td>...</td>\n",
       "      <td>4.63</td>\n",
       "      <td>1.0</td>\n",
       "      <td>4.63</td>\n",
       "      <td>0.37</td>\n",
       "      <td>False</td>\n",
       "      <td>False</td>\n",
       "      <td>False</td>\n",
       "      <td>Tax Included</td>\n",
       "      <td>No Effect</td>\n",
       "      <td>NaN</td>\n",
       "    </tr>\n",
       "    <tr>\n",
       "      <th>1</th>\n",
       "      <td>5.000000e+17</td>\n",
       "      <td>2</td>\n",
       "      <td>10/1/19 8:20</td>\n",
       "      <td>10/1/19 8:20</td>\n",
       "      <td>5.000000e+17</td>\n",
       "      <td>Alfredo Vargas</td>\n",
       "      <td>NaN</td>\n",
       "      <td>NaN</td>\n",
       "      <td>NaN</td>\n",
       "      <td>Dine In</td>\n",
       "      <td>...</td>\n",
       "      <td>4.16</td>\n",
       "      <td>1.0</td>\n",
       "      <td>4.16</td>\n",
       "      <td>0.34</td>\n",
       "      <td>False</td>\n",
       "      <td>False</td>\n",
       "      <td>False</td>\n",
       "      <td>Tax Included</td>\n",
       "      <td>No Effect</td>\n",
       "      <td>NaN</td>\n",
       "    </tr>\n",
       "    <tr>\n",
       "      <th>2</th>\n",
       "      <td>5.000000e+17</td>\n",
       "      <td>3</td>\n",
       "      <td>10/1/19 8:29</td>\n",
       "      <td>10/1/19 8:29</td>\n",
       "      <td>5.000000e+17</td>\n",
       "      <td>Alfredo Vargas</td>\n",
       "      <td>NaN</td>\n",
       "      <td>NaN</td>\n",
       "      <td>NaN</td>\n",
       "      <td>Dine In</td>\n",
       "      <td>...</td>\n",
       "      <td>4.63</td>\n",
       "      <td>1.0</td>\n",
       "      <td>4.63</td>\n",
       "      <td>0.37</td>\n",
       "      <td>False</td>\n",
       "      <td>False</td>\n",
       "      <td>False</td>\n",
       "      <td>Tax Included</td>\n",
       "      <td>No Effect</td>\n",
       "      <td>NaN</td>\n",
       "    </tr>\n",
       "    <tr>\n",
       "      <th>3</th>\n",
       "      <td>5.000000e+17</td>\n",
       "      <td>4</td>\n",
       "      <td>10/1/19 8:46</td>\n",
       "      <td>10/1/19 8:46</td>\n",
       "      <td>5.000000e+17</td>\n",
       "      <td>Alfredo Vargas</td>\n",
       "      <td>NaN</td>\n",
       "      <td>NaN</td>\n",
       "      <td>NaN</td>\n",
       "      <td>Dine In</td>\n",
       "      <td>...</td>\n",
       "      <td>4.63</td>\n",
       "      <td>1.0</td>\n",
       "      <td>4.63</td>\n",
       "      <td>0.37</td>\n",
       "      <td>False</td>\n",
       "      <td>False</td>\n",
       "      <td>False</td>\n",
       "      <td>Tax Included</td>\n",
       "      <td>No Effect</td>\n",
       "      <td>NaN</td>\n",
       "    </tr>\n",
       "    <tr>\n",
       "      <th>4</th>\n",
       "      <td>5.000000e+17</td>\n",
       "      <td>5</td>\n",
       "      <td>10/1/19 8:47</td>\n",
       "      <td>10/1/19 8:47</td>\n",
       "      <td>5.000000e+17</td>\n",
       "      <td>Alfredo Vargas</td>\n",
       "      <td>NaN</td>\n",
       "      <td>NaN</td>\n",
       "      <td>NaN</td>\n",
       "      <td>Dine In</td>\n",
       "      <td>...</td>\n",
       "      <td>2.78</td>\n",
       "      <td>1.0</td>\n",
       "      <td>2.78</td>\n",
       "      <td>0.22</td>\n",
       "      <td>False</td>\n",
       "      <td>False</td>\n",
       "      <td>False</td>\n",
       "      <td>Tax Included</td>\n",
       "      <td>No Effect</td>\n",
       "      <td>NaN</td>\n",
       "    </tr>\n",
       "  </tbody>\n",
       "</table>\n",
       "<p>5 rows × 32 columns</p>\n",
       "</div>"
      ],
      "text/plain": [
       "       Order Id  Order #     Sent Date    Order Date      Check Id  \\\n",
       "0  5.000000e+17        1  10/1/19 8:03  10/1/19 8:03  5.000000e+17   \n",
       "1  5.000000e+17        2  10/1/19 8:20  10/1/19 8:20  5.000000e+17   \n",
       "2  5.000000e+17        3  10/1/19 8:29  10/1/19 8:29  5.000000e+17   \n",
       "3  5.000000e+17        4  10/1/19 8:46  10/1/19 8:46  5.000000e+17   \n",
       "4  5.000000e+17        5  10/1/19 8:47  10/1/19 8:47  5.000000e+17   \n",
       "\n",
       "           Server  Table Dining Area Service Dining Option  ...  Net Price  \\\n",
       "0  Alfredo Vargas    NaN         NaN     NaN       Dine In  ...       4.63   \n",
       "1  Alfredo Vargas    NaN         NaN     NaN       Dine In  ...       4.16   \n",
       "2  Alfredo Vargas    NaN         NaN     NaN       Dine In  ...       4.63   \n",
       "3  Alfredo Vargas    NaN         NaN     NaN       Dine In  ...       4.63   \n",
       "4  Alfredo Vargas    NaN         NaN     NaN       Dine In  ...       2.78   \n",
       "\n",
       "   Qty  Sales Total   Tax  Void? Deferred Tax Exempt Tax Inclusion Option  \\\n",
       "0  1.0         4.63  0.37  False    False      False         Tax Included   \n",
       "1  1.0         4.16  0.34  False    False      False         Tax Included   \n",
       "2  1.0         4.63  0.37  False    False      False         Tax Included   \n",
       "3  1.0         4.63  0.37  False    False      False         Tax Included   \n",
       "4  1.0         2.78  0.22  False    False      False         Tax Included   \n",
       "\n",
       "  Dining Option Tax Tab Name  \n",
       "0         No Effect      NaN  \n",
       "1         No Effect      NaN  \n",
       "2         No Effect      NaN  \n",
       "3         No Effect      NaN  \n",
       "4         No Effect      NaN  \n",
       "\n",
       "[5 rows x 32 columns]"
      ]
     },
     "execution_count": 9,
     "metadata": {},
     "output_type": "execute_result"
    }
   ],
   "source": [
    "df = pd.read_csv(\"Data/Menu/Item_Detail/Dummy_Item_Details_10_2019.csv\", encoding = \"utf-8\")\n",
    "df.head()"
   ]
  },
  {
   "cell_type": "code",
   "execution_count": 30,
   "metadata": {},
   "outputs": [],
   "source": [
    "columns = ['Order Id', 'Order #', 'Sent Date', 'Order Date', 'Check Id', 'Server',\n",
    "       'Table', 'Dining Area', 'Service', 'Dining Option', 'Item Selection Id',\n",
    "       'Item Id', 'Master Id', 'SKU', 'PLU', 'Menu Item', 'Menu Subgroup(s)',\n",
    "       'Menu Group', 'Menu', 'Sales Category', 'Gross Price', 'Discount',\n",
    "       'Net Price', 'Qty', 'Sales Total', 'Tax', 'Void?', 'Deferred',\n",
    "       'Tax Exempt', 'Tax Inclusion Option', 'Dining Option Tax', 'Tab Name']\n"
   ]
  },
  {
   "cell_type": "code",
   "execution_count": 34,
   "metadata": {},
   "outputs": [],
   "source": [
    "for col in columns:\n",
    "    if col.startswith(\"'\"):\n",
    "        col = string[1:]\n",
    "\n",
    "    if col.endswith(\"'\"):\n",
    "        col = string[:-1]"
   ]
  },
  {
   "cell_type": "code",
   "execution_count": 35,
   "metadata": {},
   "outputs": [
    {
     "data": {
      "text/plain": [
       "['Order Id',\n",
       " 'Order #',\n",
       " 'Sent Date',\n",
       " 'Order Date',\n",
       " 'Check Id',\n",
       " 'Server',\n",
       " 'Table',\n",
       " 'Dining Area',\n",
       " 'Service',\n",
       " 'Dining Option',\n",
       " 'Item Selection Id',\n",
       " 'Item Id',\n",
       " 'Master Id',\n",
       " 'SKU',\n",
       " 'PLU',\n",
       " 'Menu Item',\n",
       " 'Menu Subgroup(s)',\n",
       " 'Menu Group',\n",
       " 'Menu',\n",
       " 'Sales Category',\n",
       " 'Gross Price',\n",
       " 'Discount',\n",
       " 'Net Price',\n",
       " 'Qty',\n",
       " 'Sales Total',\n",
       " 'Tax',\n",
       " 'Void?',\n",
       " 'Deferred',\n",
       " 'Tax Exempt',\n",
       " 'Tax Inclusion Option',\n",
       " 'Dining Option Tax',\n",
       " 'Tab Name']"
      ]
     },
     "execution_count": 35,
     "metadata": {},
     "output_type": "execute_result"
    }
   ],
   "source": [
    "columns"
   ]
  },
  {
   "cell_type": "code",
   "execution_count": null,
   "metadata": {},
   "outputs": [],
   "source": []
  },
  {
   "cell_type": "code",
   "execution_count": null,
   "metadata": {},
   "outputs": [],
   "source": []
  },
  {
   "cell_type": "code",
   "execution_count": null,
   "metadata": {},
   "outputs": [],
   "source": []
  },
  {
   "cell_type": "code",
   "execution_count": null,
   "metadata": {},
   "outputs": [],
   "source": []
  },
  {
   "cell_type": "code",
   "execution_count": null,
   "metadata": {},
   "outputs": [],
   "source": []
  },
  {
   "cell_type": "code",
   "execution_count": null,
   "metadata": {},
   "outputs": [],
   "source": []
  },
  {
   "cell_type": "code",
   "execution_count": null,
   "metadata": {},
   "outputs": [],
   "source": []
  },
  {
   "cell_type": "code",
   "execution_count": null,
   "metadata": {},
   "outputs": [],
   "source": []
  },
  {
   "cell_type": "code",
   "execution_count": null,
   "metadata": {},
   "outputs": [],
   "source": []
  },
  {
   "cell_type": "code",
   "execution_count": null,
   "metadata": {},
   "outputs": [],
   "source": []
  }
 ],
 "metadata": {
  "kernelspec": {
   "display_name": "Python 3",
   "language": "python",
   "name": "python3"
  },
  "language_info": {
   "codemirror_mode": {
    "name": "ipython",
    "version": 3
   },
   "file_extension": ".py",
   "mimetype": "text/x-python",
   "name": "python",
   "nbconvert_exporter": "python",
   "pygments_lexer": "ipython3",
   "version": "3.7.6"
  }
 },
 "nbformat": 4,
 "nbformat_minor": 4
}
